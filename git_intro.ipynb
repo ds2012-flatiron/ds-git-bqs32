{
 "cells": [
  {
   "cell_type": "markdown",
   "metadata": {
    "slideshow": {
     "slide_type": "skip"
    },
    "toc": true
   },
   "source": [
    "<h1>Table of Contents<span class=\"tocSkip\"></span></h1>\n",
    "<div class=\"toc\"><ul class=\"toc-item\"><li><span><a href=\"#Version-Control\" data-toc-modified-id=\"Version-Control-1\"><span class=\"toc-item-num\">1&nbsp;&nbsp;</span>Version Control</a></span><ul class=\"toc-item\"><li><span><a href=\"#Q:-Why-do-you-think-version-control-is-important?-Can-you-think-of-a-use-case?\" data-toc-modified-id=\"Q:-Why-do-you-think-version-control-is-important?-Can-you-think-of-a-use-case?-1.1\"><span class=\"toc-item-num\">1.1&nbsp;&nbsp;</span>Q: Why do you think version control is important? Can you think of a use case?</a></span></li><li><span><a href=\"#Options\" data-toc-modified-id=\"Options-1.2\"><span class=\"toc-item-num\">1.2&nbsp;&nbsp;</span>Options</a></span></li></ul></li><li><span><a href=\"#So-Why-Git?\" data-toc-modified-id=\"So-Why-Git?-2\"><span class=\"toc-item-num\">2&nbsp;&nbsp;</span>So Why Git?</a></span><ul class=\"toc-item\"><li><span><a href=\"#Git-is-Super-Common\" data-toc-modified-id=\"Git-is-Super-Common-2.1\"><span class=\"toc-item-num\">2.1&nbsp;&nbsp;</span>Git is Super Common</a></span></li><li><span><a href=\"#Powerful-But-Has-a-Learning-Curve\" data-toc-modified-id=\"Powerful-But-Has-a-Learning-Curve-2.2\"><span class=\"toc-item-num\">2.2&nbsp;&nbsp;</span>Powerful But Has a Learning Curve</a></span></li></ul></li><li><span><a href=\"#What-is-a-Repo?\" data-toc-modified-id=\"What-is-a-Repo?-3\"><span class=\"toc-item-num\">3&nbsp;&nbsp;</span>What is a Repo?</a></span><ul class=\"toc-item\"><li><span><a href=\"#Let's-make-a-brand-new-repo!\" data-toc-modified-id=\"Let's-make-a-brand-new-repo!-3.1\"><span class=\"toc-item-num\">3.1&nbsp;&nbsp;</span>Let's make a brand new repo!</a></span></li></ul></li><li><span><a href=\"#Basic-git-Workflow\" data-toc-modified-id=\"Basic-git-Workflow-4\"><span class=\"toc-item-num\">4&nbsp;&nbsp;</span>Basic <code>git</code> Workflow</a></span><ul class=\"toc-item\"><li><span><a href=\"#Some-Useful-Commands\" data-toc-modified-id=\"Some-Useful-Commands-4.1\"><span class=\"toc-item-num\">4.1&nbsp;&nbsp;</span>Some Useful Commands</a></span></li><li><span><a href=\"#Let's-make-some-changes-in-our-repo-and-commit-them!\" data-toc-modified-id=\"Let's-make-some-changes-in-our-repo-and-commit-them!-4.2\"><span class=\"toc-item-num\">4.2&nbsp;&nbsp;</span>Let's make some changes in our repo and commit them!</a></span><ul class=\"toc-item\"><li><span><a href=\"#git-status\" data-toc-modified-id=\"git-status-4.2.1\"><span class=\"toc-item-num\">4.2.1&nbsp;&nbsp;</span><code>git status</code></a></span></li><li><span><a href=\"#git-add\" data-toc-modified-id=\"git-add-4.2.2\"><span class=\"toc-item-num\">4.2.2&nbsp;&nbsp;</span><code>git add</code></a></span></li><li><span><a href=\"#git-commit\" data-toc-modified-id=\"git-commit-4.2.3\"><span class=\"toc-item-num\">4.2.3&nbsp;&nbsp;</span><code>git commit</code></a></span></li></ul></li></ul></li><li><span><a href=\"#Local-vs-Cloud\" data-toc-modified-id=\"Local-vs-Cloud-5\"><span class=\"toc-item-num\">5&nbsp;&nbsp;</span>Local vs Cloud</a></span><ul class=\"toc-item\"><li><span><a href=\"#git-push-and-git-pull\" data-toc-modified-id=\"git-push-and-git-pull-5.1\"><span class=\"toc-item-num\">5.1&nbsp;&nbsp;</span><code>git push</code> and <code>git pull</code></a></span></li></ul></li></ul></div>"
   ]
  },
  {
   "cell_type": "markdown",
   "metadata": {
    "slideshow": {
     "slide_type": "slide"
    }
   },
   "source": [
    "<img src=\"images/00-intro.png\"/>"
   ]
  },
  {
   "cell_type": "markdown",
   "metadata": {
    "slideshow": {
     "slide_type": "subslide"
    }
   },
   "source": [
    "<img src=\"images/01-objectives.png\"/>"
   ]
  },
  {
   "cell_type": "markdown",
   "metadata": {
    "slideshow": {
     "slide_type": "slide"
    }
   },
   "source": [
    "# Version Control\n",
    "\n",
    "<img src=\"images/02-what-is-version-control.png\"/>"
   ]
  },
  {
   "cell_type": "markdown",
   "metadata": {
    "slideshow": {
     "slide_type": "skip"
    }
   },
   "source": [
    "## Q: Why do you think version control is important? Can you think of a use case?"
   ]
  },
  {
   "cell_type": "markdown",
   "metadata": {
    "slideshow": {
     "slide_type": "subslide"
    }
   },
   "source": [
    "<img src=\"images/03-example-of-bad-version-control.png\"/>"
   ]
  },
  {
   "cell_type": "markdown",
   "metadata": {
    "slideshow": {
     "slide_type": "subslide"
    }
   },
   "source": [
    "## Options\n",
    "\n",
    "<img src='https://i.redd.it/ckj3io6qf1y01.jpg' width=60%/>"
   ]
  },
  {
   "cell_type": "markdown",
   "metadata": {
    "slideshow": {
     "slide_type": "slide"
    }
   },
   "source": [
    "# So Why Git?\n",
    "\n",
    "<img src=\"https://media.giphy.com/media/1M9fmo1WAFVK0/giphy.gif\"/>"
   ]
  },
  {
   "cell_type": "markdown",
   "metadata": {
    "slideshow": {
     "slide_type": "subslide"
    }
   },
   "source": [
    "- Saving a new file each change is frustrating and can be too much over time!\n",
    "- subversion: lockout one editor at a time\n",
    "- `git`: save just the changes!"
   ]
  },
  {
   "cell_type": "markdown",
   "metadata": {
    "slideshow": {
     "slide_type": "slide"
    }
   },
   "source": [
    "## Git is Super Common"
   ]
  },
  {
   "cell_type": "markdown",
   "metadata": {},
   "source": [
    "<img src='images/version-control-survey.png'/>\n",
    "\n",
    "> https://insights.stackoverflow.com/survey/2018/#work-_-version-control"
   ]
  },
  {
   "cell_type": "markdown",
   "metadata": {
    "slideshow": {
     "slide_type": "subslide"
    }
   },
   "source": [
    "## Powerful But Has a Learning Curve"
   ]
  },
  {
   "cell_type": "markdown",
   "metadata": {
    "slideshow": {
     "slide_type": "-"
    }
   },
   "source": [
    "<img src='https://imgs.xkcd.com/comics/git.png'/>\n",
    "\n",
    "> But you will learn it as you use it!"
   ]
  },
  {
   "cell_type": "markdown",
   "metadata": {
    "slideshow": {
     "slide_type": "slide"
    }
   },
   "source": [
    "# What is a Repo?"
   ]
  },
  {
   "cell_type": "markdown",
   "metadata": {
    "slideshow": {
     "slide_type": "subslide"
    }
   },
   "source": [
    "- Special folder\n",
    "- Holds history (just changes)\n",
    "\n",
    "<img src=\"https://media.giphy.com/media/SuEFqeWxlLcvm/giphy.gif\"/>"
   ]
  },
  {
   "cell_type": "markdown",
   "metadata": {
    "slideshow": {
     "slide_type": "subslide"
    }
   },
   "source": [
    "Ways to make repo:\n",
    "\n",
    "- New on local machine\n",
    "- New on cloud (GitHub)\n",
    "- Copy from cloud (GitHub)\n",
    "\n",
    "<img src=\"https://media.giphy.com/media/xTk9ZZvJbApGt3vy3C/giphy.gif\"/>"
   ]
  },
  {
   "cell_type": "markdown",
   "metadata": {
    "slideshow": {
     "slide_type": "slide"
    }
   },
   "source": [
    "## Let's make a brand new repo!"
   ]
  },
  {
   "cell_type": "markdown",
   "metadata": {
    "slideshow": {
     "slide_type": "slide"
    }
   },
   "source": [
    "# Basic `git` Workflow"
   ]
  },
  {
   "cell_type": "markdown",
   "metadata": {},
   "source": [
    "<img src=\"images/04-git-workflow.png\"/>"
   ]
  },
  {
   "cell_type": "markdown",
   "metadata": {
    "slideshow": {
     "slide_type": "subslide"
    }
   },
   "source": [
    "<img src='https://res.cloudinary.com/practicaldev/image/fetch/s--Si7ksd-d--/c_limit%2Cf_auto%2Cfl_progressive%2Cq_auto%2Cw_880/https://cdn-images-1.medium.com/max/800/1%2AdiRLm1S5hkVoh5qeArND0Q.png'/>\n",
    "\n",
    "> Source: https://dev.to/sublimegeek/git-staging-area-explained-like-im-five-1anh"
   ]
  },
  {
   "cell_type": "markdown",
   "metadata": {
    "slideshow": {
     "slide_type": "skip"
    }
   },
   "source": [
    "```sh\n",
    "git add file_or_files\n",
    "git commit -m \"Message\"\n",
    "git push\n",
    "```"
   ]
  },
  {
   "cell_type": "markdown",
   "metadata": {
    "slideshow": {
     "slide_type": "subslide"
    }
   },
   "source": [
    "## Some Useful Commands \n",
    "\n",
    "- `git status`: what is staged? working directory?\n",
    "- `git diff`: differences between commits or working directory\n",
    "- `git log`: all the changes"
   ]
  },
  {
   "cell_type": "markdown",
   "metadata": {
    "slideshow": {
     "slide_type": "slide"
    }
   },
   "source": [
    "## Let's make some changes in our repo and commit them!"
   ]
  },
  {
   "cell_type": "markdown",
   "metadata": {
    "slideshow": {
     "slide_type": "subslide"
    }
   },
   "source": [
    "### `git status`\n",
    "\n",
    "<img src=\"images/05-git-status.png\"/>"
   ]
  },
  {
   "cell_type": "markdown",
   "metadata": {
    "slideshow": {
     "slide_type": "subslide"
    }
   },
   "source": [
    "### `git add`\n",
    "\n",
    "\n",
    "<img src=\"images/06-git-add.png\"/>"
   ]
  },
  {
   "cell_type": "markdown",
   "metadata": {
    "slideshow": {
     "slide_type": "subslide"
    }
   },
   "source": [
    "### `git commit`\n",
    "\n",
    "\n",
    "<img src=\"images/07-git-commit.png\"/>"
   ]
  },
  {
   "cell_type": "markdown",
   "metadata": {
    "slideshow": {
     "slide_type": "subslide"
    }
   },
   "source": [
    "Some notes on commit messages:\n",
    "\n",
    "* Start with a verb in the present tense, imperative mood\n",
    "* First line is the most important line, high-level summary\n",
    "* If I apply this commit, it will X\n",
    "    * “Add spell check feature”\n",
    "    * “Fix super awful bug written by Cristian”\n",
    "    * “Refactor for loop logic to be more efficient”\n",
    "    * “Add my personal information”\n",
    "    * “Update URLS in README.md”\n"
   ]
  },
  {
   "cell_type": "markdown",
   "metadata": {
    "slideshow": {
     "slide_type": "slide"
    }
   },
   "source": [
    "# Local vs Cloud\n",
    "\n",
    "<img src=\"images/08-local-vs-cloud.png\"/>"
   ]
  },
  {
   "cell_type": "markdown",
   "metadata": {
    "slideshow": {
     "slide_type": "slide"
    }
   },
   "source": [
    "## `git push` and `git pull`\n",
    "\n",
    "Our way to sync local vs remote (cloud)\n",
    "\n",
    "<img src=\"https://media.giphy.com/media/jIT7AwsTRnfrb4U6pv/giphy.gif\"/>"
   ]
  },
  {
   "cell_type": "code",
   "execution_count": null,
   "metadata": {},
   "outputs": [],
   "source": []
  }
 ],
 "metadata": {
  "celltoolbar": "Slideshow",
  "kernelspec": {
   "display_name": "Python 3",
   "language": "python",
   "name": "python3"
  },
  "language_info": {
   "codemirror_mode": {
    "name": "ipython",
    "version": 3
   },
   "file_extension": ".py",
   "mimetype": "text/x-python",
   "name": "python",
   "nbconvert_exporter": "python",
   "pygments_lexer": "ipython3",
   "version": "3.8.5"
  },
  "toc": {
   "base_numbering": 1,
   "nav_menu": {},
   "number_sections": true,
   "sideBar": false,
   "skip_h1_title": false,
   "title_cell": "Table of Contents",
   "title_sidebar": "Contents",
   "toc_cell": true,
   "toc_position": {},
   "toc_section_display": false,
   "toc_window_display": false
  },
  "varInspector": {
   "cols": {
    "lenName": 16,
    "lenType": 16,
    "lenVar": 40
   },
   "kernels_config": {
    "python": {
     "delete_cmd_postfix": "",
     "delete_cmd_prefix": "del ",
     "library": "var_list.py",
     "varRefreshCmd": "print(var_dic_list())"
    },
    "r": {
     "delete_cmd_postfix": ") ",
     "delete_cmd_prefix": "rm(",
     "library": "var_list.r",
     "varRefreshCmd": "cat(var_dic_list()) "
    }
   },
   "types_to_exclude": [
    "module",
    "function",
    "builtin_function_or_method",
    "instance",
    "_Feature"
   ],
   "window_display": false
  }
 },
 "nbformat": 4,
 "nbformat_minor": 2
}
